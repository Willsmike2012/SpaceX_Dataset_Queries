{
 "cells": [
  {
   "cell_type": "markdown",
   "metadata": {},
   "source": [
    "<p style=\"text-align:center\">\n",
    "    <a href=\"https://skills.network\" target=\"_blank\">\n",
    "    <img src=\"https://cf-courses-data.s3.us.cloud-object-storage.appdomain.cloud/assets/logos/SN_web_lightmode.png\" width=\"200\" alt=\"Skills Network Logo\">\n",
    "    </a>\n",
    "</p>\n",
    "\n",
    "<h1 align=center><font size = 5>Assignment: SQL Notebook for Peer Assignment</font></h1>\n",
    "\n",
    "Estimated time needed: **60** minutes.\n",
    "\n",
    "## Introduction\n",
    "Using this Python notebook you will:\n",
    "\n",
    "1.  Understand the Spacex DataSet\n",
    "2.  Load the dataset  into the corresponding table in a Db2 database\n",
    "3.  Execute SQL queries to answer assignment questions \n"
   ]
  },
  {
   "cell_type": "markdown",
   "metadata": {},
   "source": [
    "## Overview of the DataSet\n",
    "\n",
    "SpaceX has gained worldwide attention for a series of historic milestones. \n",
    "\n",
    "It is the only private company ever to return a spacecraft from low-earth orbit, which it first accomplished in December 2010.\n",
    "SpaceX advertises Falcon 9 rocket launches on its website with a cost of 62 million dollars wheras other providers cost upward of 165 million dollars each, much of the savings is because Space X can reuse the first stage. \n",
    "\n",
    "\n",
    "Therefore if we can determine if the first stage will land, we can determine the cost of a launch. \n",
    "\n",
    "This information can be used if an alternate company wants to bid against SpaceX for a rocket launch.\n",
    "\n",
    "This dataset includes a record for each payload carried during a SpaceX mission into outer space.\n"
   ]
  },
  {
   "cell_type": "markdown",
   "metadata": {},
   "source": [
    "### Download the datasets\n",
    "\n",
    "This assignment requires you to load the spacex dataset.\n",
    "\n",
    "In many cases the dataset to be analyzed is available as a .CSV (comma separated values) file, perhaps on the internet. Click on the link below to download and save the dataset (.CSV file):\n",
    "\n",
    " <a href=\"https://cf-courses-data.s3.us.cloud-object-storage.appdomain.cloud/IBM-DS0321EN-SkillsNetwork/labs/module_2/data/Spacex.csv\" target=\"_blank\">Spacex DataSet</a>\n",
    "\n"
   ]
  },
  {
   "cell_type": "code",
   "execution_count": 18,
   "metadata": {},
   "outputs": [
    {
     "name": "stdout",
     "output_type": "stream",
     "text": [
      "Collecting sqlalchemy==1.3.9\n",
      "  Using cached SQLAlchemy-1.3.9-cp312-cp312-win_amd64.whl\n",
      "Installing collected packages: sqlalchemy\n",
      "  Attempting uninstall: sqlalchemy\n",
      "    Found existing installation: SQLAlchemy 2.0.41\n",
      "    Uninstalling SQLAlchemy-2.0.41:\n",
      "      Successfully uninstalled SQLAlchemy-2.0.41\n",
      "Successfully installed sqlalchemy-1.3.9\n"
     ]
    },
    {
     "name": "stderr",
     "output_type": "stream",
     "text": [
      "  WARNING: Failed to remove contents in a temporary directory 'C:\\Users\\Wills Michael\\anaconda3\\Lib\\site-packages\\~qlalchemy'.\n",
      "  You can safely remove it manually.\n",
      "ERROR: pip's dependency resolver does not currently take into account all the packages that are installed. This behaviour is the source of the following dependency conflicts.\n",
      "ipython-sql 0.5.0 requires sqlalchemy>=2.0, but you have sqlalchemy 1.3.9 which is incompatible.\n"
     ]
    }
   ],
   "source": [
    "!pip install sqlalchemy==1.3.9\n"
   ]
  },
  {
   "cell_type": "markdown",
   "metadata": {},
   "source": [
    "### Connect to the database\n",
    "\n",
    "Let us first load the SQL extension and establish a connection with the database\n"
   ]
  },
  {
   "cell_type": "code",
   "execution_count": 19,
   "metadata": {},
   "outputs": [
    {
     "name": "stdout",
     "output_type": "stream",
     "text": [
      "Requirement already satisfied: ipython-sql in c:\\users\\wills michael\\anaconda3\\lib\\site-packages (0.5.0)\n",
      "Requirement already satisfied: prettytable in c:\\users\\wills michael\\anaconda3\\lib\\site-packages (from ipython-sql) (3.15.1)\n",
      "Requirement already satisfied: ipython in c:\\users\\wills michael\\anaconda3\\lib\\site-packages (from ipython-sql) (8.27.0)\n",
      "Collecting sqlalchemy>=2.0 (from ipython-sql)\n",
      "  Downloading sqlalchemy-2.0.43-cp312-cp312-win_amd64.whl.metadata (9.8 kB)\n",
      "Requirement already satisfied: sqlparse in c:\\users\\wills michael\\anaconda3\\lib\\site-packages (from ipython-sql) (0.5.3)\n",
      "Requirement already satisfied: six in c:\\users\\wills michael\\anaconda3\\lib\\site-packages (from ipython-sql) (1.16.0)\n",
      "Requirement already satisfied: ipython-genutils in c:\\users\\wills michael\\anaconda3\\lib\\site-packages (from ipython-sql) (0.2.0)\n",
      "Requirement already satisfied: greenlet>=1 in c:\\users\\wills michael\\anaconda3\\lib\\site-packages (from sqlalchemy>=2.0->ipython-sql) (3.0.1)\n",
      "Requirement already satisfied: typing-extensions>=4.6.0 in c:\\users\\wills michael\\anaconda3\\lib\\site-packages (from sqlalchemy>=2.0->ipython-sql) (4.14.1)\n",
      "Requirement already satisfied: decorator in c:\\users\\wills michael\\anaconda3\\lib\\site-packages (from ipython->ipython-sql) (5.1.1)\n",
      "Requirement already satisfied: jedi>=0.16 in c:\\users\\wills michael\\anaconda3\\lib\\site-packages (from ipython->ipython-sql) (0.19.1)\n",
      "Requirement already satisfied: matplotlib-inline in c:\\users\\wills michael\\anaconda3\\lib\\site-packages (from ipython->ipython-sql) (0.1.6)\n",
      "Requirement already satisfied: prompt-toolkit<3.1.0,>=3.0.41 in c:\\users\\wills michael\\anaconda3\\lib\\site-packages (from ipython->ipython-sql) (3.0.43)\n",
      "Requirement already satisfied: pygments>=2.4.0 in c:\\users\\wills michael\\anaconda3\\lib\\site-packages (from ipython->ipython-sql) (2.15.1)\n",
      "Requirement already satisfied: stack-data in c:\\users\\wills michael\\anaconda3\\lib\\site-packages (from ipython->ipython-sql) (0.2.0)\n",
      "Requirement already satisfied: traitlets>=5.13.0 in c:\\users\\wills michael\\anaconda3\\lib\\site-packages (from ipython->ipython-sql) (5.14.3)\n",
      "Requirement already satisfied: colorama in c:\\users\\wills michael\\anaconda3\\lib\\site-packages (from ipython->ipython-sql) (0.4.6)\n",
      "Requirement already satisfied: wcwidth in c:\\users\\wills michael\\anaconda3\\lib\\site-packages (from prettytable->ipython-sql) (0.2.5)\n",
      "Requirement already satisfied: parso<0.9.0,>=0.8.3 in c:\\users\\wills michael\\anaconda3\\lib\\site-packages (from jedi>=0.16->ipython->ipython-sql) (0.8.3)\n",
      "Requirement already satisfied: executing in c:\\users\\wills michael\\anaconda3\\lib\\site-packages (from stack-data->ipython->ipython-sql) (0.8.3)\n",
      "Requirement already satisfied: asttokens in c:\\users\\wills michael\\anaconda3\\lib\\site-packages (from stack-data->ipython->ipython-sql) (2.0.5)\n",
      "Requirement already satisfied: pure-eval in c:\\users\\wills michael\\anaconda3\\lib\\site-packages (from stack-data->ipython->ipython-sql) (0.2.2)\n",
      "Downloading sqlalchemy-2.0.43-cp312-cp312-win_amd64.whl (2.1 MB)\n",
      "   ---------------------------------------- 0.0/2.1 MB ? eta -:--:--\n",
      "   ---------------------------------------- 0.0/2.1 MB ? eta -:--:--\n",
      "   ---------------------------------------- 0.0/2.1 MB ? eta -:--:--\n",
      "   ---------------------------------------- 0.0/2.1 MB ? eta -:--:--\n",
      "   ---- ----------------------------------- 0.3/2.1 MB ? eta -:--:--\n",
      "   --------- ------------------------------ 0.5/2.1 MB 1.0 MB/s eta 0:00:02\n",
      "   --------- ------------------------------ 0.5/2.1 MB 1.0 MB/s eta 0:00:02\n",
      "   -------------- ------------------------- 0.8/2.1 MB 745.8 kB/s eta 0:00:02\n",
      "   ------------------- -------------------- 1.0/2.1 MB 839.3 kB/s eta 0:00:02\n",
      "   ------------------------ --------------- 1.3/2.1 MB 838.9 kB/s eta 0:00:01\n",
      "   ------------------------ --------------- 1.3/2.1 MB 838.9 kB/s eta 0:00:01\n",
      "   ----------------------------- ---------- 1.6/2.1 MB 883.2 kB/s eta 0:00:01\n",
      "   ---------------------------------- ----- 1.8/2.1 MB 883.1 kB/s eta 0:00:01\n",
      "   ---------------------------------------  2.1/2.1 MB 876.3 kB/s eta 0:00:01\n",
      "   ---------------------------------------- 2.1/2.1 MB 871.1 kB/s eta 0:00:00\n",
      "Installing collected packages: sqlalchemy\n",
      "  Attempting uninstall: sqlalchemy\n",
      "    Found existing installation: SQLAlchemy 1.3.9\n",
      "    Uninstalling SQLAlchemy-1.3.9:\n",
      "      Successfully uninstalled SQLAlchemy-1.3.9\n",
      "Successfully installed sqlalchemy-2.0.43\n",
      "Requirement already satisfied: ipython-sql in c:\\users\\wills michael\\anaconda3\\lib\\site-packages (0.5.0)\n",
      "Requirement already satisfied: prettytable in c:\\users\\wills michael\\anaconda3\\lib\\site-packages (3.15.1)\n",
      "Requirement already satisfied: ipython in c:\\users\\wills michael\\anaconda3\\lib\\site-packages (from ipython-sql) (8.27.0)\n",
      "Requirement already satisfied: sqlalchemy>=2.0 in c:\\users\\wills michael\\anaconda3\\lib\\site-packages (from ipython-sql) (2.0.43)\n",
      "Requirement already satisfied: sqlparse in c:\\users\\wills michael\\anaconda3\\lib\\site-packages (from ipython-sql) (0.5.3)\n",
      "Requirement already satisfied: six in c:\\users\\wills michael\\anaconda3\\lib\\site-packages (from ipython-sql) (1.16.0)\n",
      "Requirement already satisfied: ipython-genutils in c:\\users\\wills michael\\anaconda3\\lib\\site-packages (from ipython-sql) (0.2.0)\n",
      "Requirement already satisfied: wcwidth in c:\\users\\wills michael\\anaconda3\\lib\\site-packages (from prettytable) (0.2.5)\n",
      "Requirement already satisfied: greenlet>=1 in c:\\users\\wills michael\\anaconda3\\lib\\site-packages (from sqlalchemy>=2.0->ipython-sql) (3.0.1)\n",
      "Requirement already satisfied: typing-extensions>=4.6.0 in c:\\users\\wills michael\\anaconda3\\lib\\site-packages (from sqlalchemy>=2.0->ipython-sql) (4.14.1)\n",
      "Requirement already satisfied: decorator in c:\\users\\wills michael\\anaconda3\\lib\\site-packages (from ipython->ipython-sql) (5.1.1)\n",
      "Requirement already satisfied: jedi>=0.16 in c:\\users\\wills michael\\anaconda3\\lib\\site-packages (from ipython->ipython-sql) (0.19.1)\n",
      "Requirement already satisfied: matplotlib-inline in c:\\users\\wills michael\\anaconda3\\lib\\site-packages (from ipython->ipython-sql) (0.1.6)\n",
      "Requirement already satisfied: prompt-toolkit<3.1.0,>=3.0.41 in c:\\users\\wills michael\\anaconda3\\lib\\site-packages (from ipython->ipython-sql) (3.0.43)\n",
      "Requirement already satisfied: pygments>=2.4.0 in c:\\users\\wills michael\\anaconda3\\lib\\site-packages (from ipython->ipython-sql) (2.15.1)\n",
      "Requirement already satisfied: stack-data in c:\\users\\wills michael\\anaconda3\\lib\\site-packages (from ipython->ipython-sql) (0.2.0)\n",
      "Requirement already satisfied: traitlets>=5.13.0 in c:\\users\\wills michael\\anaconda3\\lib\\site-packages (from ipython->ipython-sql) (5.14.3)\n",
      "Requirement already satisfied: colorama in c:\\users\\wills michael\\anaconda3\\lib\\site-packages (from ipython->ipython-sql) (0.4.6)\n",
      "Requirement already satisfied: parso<0.9.0,>=0.8.3 in c:\\users\\wills michael\\anaconda3\\lib\\site-packages (from jedi>=0.16->ipython->ipython-sql) (0.8.3)\n",
      "Requirement already satisfied: executing in c:\\users\\wills michael\\anaconda3\\lib\\site-packages (from stack-data->ipython->ipython-sql) (0.8.3)\n",
      "Requirement already satisfied: asttokens in c:\\users\\wills michael\\anaconda3\\lib\\site-packages (from stack-data->ipython->ipython-sql) (2.0.5)\n",
      "Requirement already satisfied: pure-eval in c:\\users\\wills michael\\anaconda3\\lib\\site-packages (from stack-data->ipython->ipython-sql) (0.2.2)\n"
     ]
    }
   ],
   "source": [
    "!pip install ipython-sql\n",
    "!pip install ipython-sql prettytable"
   ]
  },
  {
   "cell_type": "code",
   "execution_count": 20,
   "metadata": {},
   "outputs": [
    {
     "name": "stdout",
     "output_type": "stream",
     "text": [
      "The sql extension is already loaded. To reload it, use:\n",
      "  %reload_ext sql\n"
     ]
    }
   ],
   "source": [
    "%load_ext sql"
   ]
  },
  {
   "cell_type": "code",
   "execution_count": 21,
   "metadata": {},
   "outputs": [],
   "source": [
    "import csv, sqlite3\n",
    "import prettytable\n",
    "prettytable.DEFAULT = 'DEFAULT'\n",
    "\n",
    "con = sqlite3.connect(\"my_data1.db\")\n",
    "cur = con.cursor()"
   ]
  },
  {
   "cell_type": "code",
   "execution_count": 22,
   "metadata": {},
   "outputs": [],
   "source": [
    "!pip install -q pandas"
   ]
  },
  {
   "cell_type": "code",
   "execution_count": 23,
   "metadata": {},
   "outputs": [],
   "source": [
    "%sql sqlite:///my_data1.db"
   ]
  },
  {
   "cell_type": "code",
   "execution_count": 24,
   "metadata": {},
   "outputs": [
    {
     "data": {
      "text/plain": [
       "101"
      ]
     },
     "execution_count": 24,
     "metadata": {},
     "output_type": "execute_result"
    }
   ],
   "source": [
    "import pandas as pd\n",
    "df = pd.read_csv(\"https://cf-courses-data.s3.us.cloud-object-storage.appdomain.cloud/IBM-DS0321EN-SkillsNetwork/labs/module_2/data/Spacex.csv\")\n",
    "df.to_sql(\"SPACEXTBL\", con, if_exists='replace', index=False,method=\"multi\")"
   ]
  },
  {
   "cell_type": "markdown",
   "metadata": {},
   "source": [
    "**Note:This below code is added to remove blank rows from table**\n"
   ]
  },
  {
   "cell_type": "code",
   "execution_count": 25,
   "metadata": {},
   "outputs": [
    {
     "name": "stdout",
     "output_type": "stream",
     "text": [
      " * sqlite:///my_data1.db\n",
      "Done.\n"
     ]
    },
    {
     "data": {
      "text/plain": [
       "[]"
      ]
     },
     "execution_count": 25,
     "metadata": {},
     "output_type": "execute_result"
    }
   ],
   "source": [
    "#DROP THE TABLE IF EXISTS\n",
    "\n",
    "%sql DROP TABLE IF EXISTS SPACEXTABLE;"
   ]
  },
  {
   "cell_type": "code",
   "execution_count": 26,
   "metadata": {},
   "outputs": [
    {
     "name": "stdout",
     "output_type": "stream",
     "text": [
      " * sqlite:///my_data1.db\n",
      "Done.\n"
     ]
    },
    {
     "data": {
      "text/plain": [
       "[]"
      ]
     },
     "execution_count": 26,
     "metadata": {},
     "output_type": "execute_result"
    }
   ],
   "source": [
    "%sql create table SPACEXTABLE as select * from SPACEXTBL where Date is not null"
   ]
  },
  {
   "cell_type": "markdown",
   "metadata": {},
   "source": [
    "## Tasks\n",
    "\n",
    "Now write and execute SQL queries to solve the assignment tasks.\n",
    "\n",
    "**Note: If the column names are in mixed case enclose it in double quotes\n",
    "   For Example \"Landing_Outcome\"**\n",
    "\n",
    "### Task 1\n",
    "\n",
    "\n",
    "\n",
    "\n",
    "##### Display the names of the unique launch sites  in the space mission\n"
   ]
  },
  {
   "cell_type": "code",
   "execution_count": 27,
   "metadata": {},
   "outputs": [
    {
     "data": {
      "text/plain": [
       "Index(['Date', 'Time (UTC)', 'Booster_Version', 'Launch_Site', 'Payload',\n",
       "       'PAYLOAD_MASS__KG_', 'Orbit', 'Customer', 'Mission_Outcome',\n",
       "       'Landing_Outcome'],\n",
       "      dtype='object')"
      ]
     },
     "execution_count": 27,
     "metadata": {},
     "output_type": "execute_result"
    }
   ],
   "source": [
    "df.columns"
   ]
  },
  {
   "cell_type": "code",
   "execution_count": 28,
   "metadata": {},
   "outputs": [
    {
     "data": {
      "text/plain": [
       "<bound method Series.unique of 0       CCAFS LC-40\n",
       "1       CCAFS LC-40\n",
       "2       CCAFS LC-40\n",
       "3       CCAFS LC-40\n",
       "4       CCAFS LC-40\n",
       "           ...     \n",
       "96     CCAFS SLC-40\n",
       "97       KSC LC-39A\n",
       "98      VAFB SLC-4E\n",
       "99     CCAFS SLC-40\n",
       "100      KSC LC-39A\n",
       "Name: Launch_Site, Length: 101, dtype: object>"
      ]
     },
     "execution_count": 28,
     "metadata": {},
     "output_type": "execute_result"
    }
   ],
   "source": [
    "df['Launch_Site'].unique"
   ]
  },
  {
   "cell_type": "markdown",
   "metadata": {},
   "source": [
    "\n",
    "### Task 2\n",
    "\n",
    "\n",
    "#####  Display 5 records where launch sites begin with the string 'CCA' \n"
   ]
  },
  {
   "cell_type": "code",
   "execution_count": 29,
   "metadata": {},
   "outputs": [
    {
     "data": {
      "text/html": [
       "<div>\n",
       "<style scoped>\n",
       "    .dataframe tbody tr th:only-of-type {\n",
       "        vertical-align: middle;\n",
       "    }\n",
       "\n",
       "    .dataframe tbody tr th {\n",
       "        vertical-align: top;\n",
       "    }\n",
       "\n",
       "    .dataframe thead th {\n",
       "        text-align: right;\n",
       "    }\n",
       "</style>\n",
       "<table border=\"1\" class=\"dataframe\">\n",
       "  <thead>\n",
       "    <tr style=\"text-align: right;\">\n",
       "      <th></th>\n",
       "      <th>Launch_Site</th>\n",
       "      <th>Mission_Outcome</th>\n",
       "      <th>Payload_Mass__KG_</th>\n",
       "      <th>Booster_Version</th>\n",
       "    </tr>\n",
       "  </thead>\n",
       "  <tbody>\n",
       "    <tr>\n",
       "      <th>0</th>\n",
       "      <td>CCAFS LC-40</td>\n",
       "      <td>Success</td>\n",
       "      <td>1000</td>\n",
       "      <td>B1001</td>\n",
       "    </tr>\n",
       "    <tr>\n",
       "      <th>1</th>\n",
       "      <td>VAFB SLC-4E</td>\n",
       "      <td>Success</td>\n",
       "      <td>2000</td>\n",
       "      <td>B1002</td>\n",
       "    </tr>\n",
       "    <tr>\n",
       "      <th>2</th>\n",
       "      <td>KSC LC-39A</td>\n",
       "      <td>Failure</td>\n",
       "      <td>1500</td>\n",
       "      <td>B1003</td>\n",
       "    </tr>\n",
       "    <tr>\n",
       "      <th>3</th>\n",
       "      <td>CCAFS LC-40</td>\n",
       "      <td>Success</td>\n",
       "      <td>3000</td>\n",
       "      <td>B1004</td>\n",
       "    </tr>\n",
       "    <tr>\n",
       "      <th>4</th>\n",
       "      <td>VAFB SLC-4E</td>\n",
       "      <td>Success</td>\n",
       "      <td>2500</td>\n",
       "      <td>B1005</td>\n",
       "    </tr>\n",
       "    <tr>\n",
       "      <th>5</th>\n",
       "      <td>CCA-900</td>\n",
       "      <td>Failure</td>\n",
       "      <td>1200</td>\n",
       "      <td>B1006</td>\n",
       "    </tr>\n",
       "    <tr>\n",
       "      <th>6</th>\n",
       "      <td>CCAFS LC-40</td>\n",
       "      <td>Success</td>\n",
       "      <td>1800</td>\n",
       "      <td>B1007</td>\n",
       "    </tr>\n",
       "    <tr>\n",
       "      <th>7</th>\n",
       "      <td>KSC LC-39A</td>\n",
       "      <td>Success</td>\n",
       "      <td>4000</td>\n",
       "      <td>B1008</td>\n",
       "    </tr>\n",
       "  </tbody>\n",
       "</table>\n",
       "</div>"
      ],
      "text/plain": [
       "   Launch_Site Mission_Outcome  Payload_Mass__KG_ Booster_Version\n",
       "0  CCAFS LC-40         Success               1000           B1001\n",
       "1  VAFB SLC-4E         Success               2000           B1002\n",
       "2   KSC LC-39A         Failure               1500           B1003\n",
       "3  CCAFS LC-40         Success               3000           B1004\n",
       "4  VAFB SLC-4E         Success               2500           B1005\n",
       "5      CCA-900         Failure               1200           B1006\n",
       "6  CCAFS LC-40         Success               1800           B1007\n",
       "7   KSC LC-39A         Success               4000           B1008"
      ]
     },
     "execution_count": 29,
     "metadata": {},
     "output_type": "execute_result"
    }
   ],
   "source": [
    "data = {\n",
    "    'Launch_Site': ['CCAFS LC-40', 'VAFB SLC-4E', 'KSC LC-39A', 'CCAFS LC-40', 'VAFB SLC-4E', 'CCA-900', 'CCAFS LC-40', 'KSC LC-39A'],\n",
    "    'Mission_Outcome': ['Success', 'Success', 'Failure', 'Success', 'Success', 'Failure', 'Success', 'Success'],\n",
    "    'Payload_Mass__KG_': [1000, 2000, 1500, 3000, 2500, 1200, 1800, 4000],\n",
    "    'Booster_Version': ['B1001', 'B1002', 'B1003', 'B1004', 'B1005', 'B1006', 'B1007', 'B1008']\n",
    "}\n",
    "df = pd.DataFrame(data)\n",
    "df"
   ]
  },
  {
   "cell_type": "code",
   "execution_count": 30,
   "metadata": {},
   "outputs": [
    {
     "name": "stdout",
     "output_type": "stream",
     "text": [
      "Database connection established successfully to '{spacex.db}'.\n"
     ]
    }
   ],
   "source": [
    "# Establish connection to the database\n",
    "con = sqlite3.connect(\"spacex.db\")\n",
    "cursor = con.cursor()\n",
    "print(\"Database connection established successfully to '{spacex.db}'.\")"
   ]
  },
  {
   "cell_type": "code",
   "execution_count": 31,
   "metadata": {},
   "outputs": [
    {
     "name": "stdout",
     "output_type": "stream",
     "text": [
      "Table 'SPACEXTBL' created/replaced successfully.\n",
      "\n",
      "Tables currently in the database:\n",
      "- SPACEXTBL\n"
     ]
    }
   ],
   "source": [
    "df.to_sql(\"SPACEXTBL\", con, if_exists='replace', index=False, method=\"multi\")\n",
    "print(\"Table 'SPACEXTBL' created/replaced successfully.\")\n",
    "\n",
    "cursor.execute(\"SELECT name FROM sqlite_master WHERE type='table';\")\n",
    "tables_in_db = cursor.fetchall()\n",
    "print(\"\\nTables currently in the database:\")\n",
    "if tables_in_db:\n",
    "    for table in tables_in_db:\n",
    "        print(f\"- {table[0]}\")\n",
    "else:\n",
    "    print(\"No tables found in this database.\")"
   ]
  },
  {
   "cell_type": "code",
   "execution_count": 32,
   "metadata": {},
   "outputs": [],
   "source": [
    "# SQL query to select 5 records where LaunchSite starts with 'CCA'\n",
    "sql_query = \"\"\"\n",
    "SELECT *\n",
    "FROM SPACEXTBL\n",
    "WHERE Launch_Site LIKE 'CCA%'\n",
    "LIMIT 5;\n",
    "\"\"\""
   ]
  },
  {
   "cell_type": "code",
   "execution_count": 33,
   "metadata": {},
   "outputs": [],
   "source": [
    "# Execute the query\n",
    "cursor.execute(sql_query)\n",
    "\n",
    "# Fetch the results\n",
    "records = cursor.fetchall()\n",
    "\n",
    "# Get column names from cursor description\n",
    "column_names = [description[0] for description in cursor.description]"
   ]
  },
  {
   "cell_type": "code",
   "execution_count": 36,
   "metadata": {},
   "outputs": [
    {
     "name": "stdout",
     "output_type": "stream",
     "text": [
      "\n",
      "--- 5 Records where Launch_Site begins with 'CCA': ---\n",
      "Launch_Site | Mission_Outcome | Payload_Mass__KG_ | Booster_Version\n",
      "-------------------------------------------------------------------\n",
      "CCAFS LC-40 | Success | 1000 | B1001\n",
      "CCAFS LC-40 | Success | 3000 | B1004\n",
      "CCA-900 | Failure | 1200 | B1006\n",
      "CCAFS LC-40 | Success | 1800 | B1007\n",
      "Database connection closed.\n"
     ]
    }
   ],
   "source": [
    "# Display the results\n",
    "try:\n",
    "    # Display the results\n",
    "    if records:\n",
    "        print(\"\\n--- 5 Records where Launch_Site begins with 'CCA': ---\")\n",
    "        \n",
    "        # Print header\n",
    "        print(f\"{' | '.join(column_names)}\")\n",
    "        print(\"-\" * (len(' | '.join(column_names))))\n",
    "        \n",
    "        # Print rows\n",
    "        for row in records:\n",
    "            print(f\"{' | '.join(map(str, row))}\")\n",
    "    else:\n",
    "        print(\"\\nNo records found where Launch_Site begins with 'CCA'.\")\n",
    "\n",
    "except sqlite3.Error as e:\n",
    "    print(f\"Database error during operation: {e}\")\n",
    "\n",
    "except Exception as e:  # Catch any other unexpected errors\n",
    "    print(f\"An unexpected error occurred: {e}\")\n",
    "\n",
    "finally:\n",
    "    # Close the database connection\n",
    "    if con:\n",
    "        con.close()\n",
    "        print(\"Database connection closed.\")\n"
   ]
  },
  {
   "cell_type": "markdown",
   "metadata": {},
   "source": [
    "### Task 3\n",
    "\n",
    "\n",
    "\n",
    "\n",
    "##### Display the total payload mass carried by boosters launched by NASA (CRS)\n"
   ]
  },
  {
   "cell_type": "code",
   "execution_count": 38,
   "metadata": {},
   "outputs": [
    {
     "name": "stdout",
     "output_type": "stream",
     "text": [
      "Total Payload Mass carried by NASA (CRS) boosters: 48213 kg\n",
      "Database connection closed.\n"
     ]
    }
   ],
   "source": [
    "import sqlite3\n",
    "\n",
    "try:\n",
    "    # Connect to the database\n",
    "    con = sqlite3.connect(\"my_data1.db\")\n",
    "    cursor = con.cursor()\n",
    "\n",
    "    # SQL query: Sum payload mass where Customer contains 'NASA (CRS)'\n",
    "    query = \"\"\"\n",
    "    SELECT SUM(Payload_Mass__kg_) AS Total_Payload_Mass\n",
    "    FROM SPACEXTBL\n",
    "    WHERE Customer LIKE '%NASA (CRS)%';\n",
    "    \"\"\"\n",
    "\n",
    "    cursor.execute(query)\n",
    "    result = cursor.fetchone()\n",
    "\n",
    "    # Display result\n",
    "    if result and result[0] is not None:\n",
    "        print(f\"Total Payload Mass carried by NASA (CRS) boosters: {result[0]} kg\")\n",
    "    else:\n",
    "        print(\"No records found for NASA (CRS).\")\n",
    "\n",
    "except sqlite3.Error as e:\n",
    "    print(f\"Database error during operation: {e}\")\n",
    "\n",
    "except Exception as e:\n",
    "    print(f\"An unexpected error occurred: {e}\")\n",
    "\n",
    "finally:\n",
    "    if con:\n",
    "        con.close()\n",
    "        print(\"Database connection closed.\")\n"
   ]
  },
  {
   "cell_type": "markdown",
   "metadata": {},
   "source": [
    "### Task 4\n",
    "\n",
    "\n",
    "\n",
    "\n",
    "##### Display average payload mass carried by booster version F9 v1.1\n"
   ]
  },
  {
   "cell_type": "code",
   "execution_count": 39,
   "metadata": {},
   "outputs": [
    {
     "name": "stdout",
     "output_type": "stream",
     "text": [
      "Average Payload Mass for Booster Version 'F9 v1.1': 2928.40 kg\n",
      "Database connection closed.\n"
     ]
    }
   ],
   "source": [
    "import sqlite3\n",
    "\n",
    "try:\n",
    "    # Connect to the database\n",
    "    con = sqlite3.connect(\"my_data1.db\")\n",
    "    cursor = con.cursor()\n",
    "\n",
    "    # SQL query: compute the average payload mass for booster version F9 v1.1\n",
    "    query = \"\"\"\n",
    "    SELECT AVG(Payload_Mass__kg_) AS Average_Payload_Mass\n",
    "    FROM SPACEXTBL\n",
    "    WHERE Booster_Version = 'F9 v1.1';\n",
    "    \"\"\"\n",
    "\n",
    "    cursor.execute(query)\n",
    "    result = cursor.fetchone()\n",
    "\n",
    "    # Display result\n",
    "    if result and result[0] is not None:\n",
    "        print(f\"Average Payload Mass for Booster Version 'F9 v1.1': {result[0]:.2f} kg\")\n",
    "    else:\n",
    "        print(\"No records found for Booster Version 'F9 v1.1'.\")\n",
    "\n",
    "except sqlite3.Error as e:\n",
    "    print(f\"Database error during operation: {e}\")\n",
    "\n",
    "except Exception as e:\n",
    "    print(f\"An unexpected error occurred: {e}\")\n",
    "\n",
    "finally:\n",
    "    if con:\n",
    "        con.close()\n",
    "        print(\"Database connection closed.\")\n"
   ]
  },
  {
   "cell_type": "markdown",
   "metadata": {},
   "source": [
    "### Task 5\n",
    "\n",
    "##### List the date when the first succesful landing outcome in ground pad was acheived.\n",
    "\n",
    "\n",
    "_Hint:Use min function_ \n"
   ]
  },
  {
   "cell_type": "code",
   "execution_count": 40,
   "metadata": {},
   "outputs": [
    {
     "name": "stdout",
     "output_type": "stream",
     "text": [
      "The first successful ground pad landing occurred on: 2015-12-22\n",
      "Database connection closed.\n"
     ]
    }
   ],
   "source": [
    "import sqlite3\n",
    "\n",
    "try:\n",
    "    # Connect to the database\n",
    "    con = sqlite3.connect(\"my_data1.db\")\n",
    "    cursor = con.cursor()\n",
    "\n",
    "    # SQL query: find the earliest date of a successful landing on a ground pad\n",
    "    query = \"\"\"\n",
    "    SELECT MIN(Date) AS First_Successful_Ground_Pad_Landing\n",
    "    FROM SPACEXTBL\n",
    "    WHERE Landing_Outcome = 'Success (ground pad)';\n",
    "    \"\"\"\n",
    "\n",
    "    cursor.execute(query)\n",
    "    result = cursor.fetchone()\n",
    "\n",
    "    # Display result\n",
    "    if result and result[0] is not None:\n",
    "        print(f\"The first successful ground pad landing occurred on: {result[0]}\")\n",
    "    else:\n",
    "        print(\"No successful ground pad landing records found.\")\n",
    "\n",
    "except sqlite3.Error as e:\n",
    "    print(f\"Database error during operation: {e}\")\n",
    "\n",
    "except Exception as e:\n",
    "    print(f\"An unexpected error occurred: {e}\")\n",
    "\n",
    "finally:\n",
    "    if con:\n",
    "        con.close()\n",
    "        print(\"Database connection closed.\")\n"
   ]
  },
  {
   "cell_type": "markdown",
   "metadata": {},
   "source": [
    "### Task 6\n",
    "\n",
    "##### List the names of the boosters which have success in drone ship and have payload mass greater than 4000 but less than 6000\n"
   ]
  },
  {
   "cell_type": "code",
   "execution_count": 41,
   "metadata": {},
   "outputs": [
    {
     "name": "stdout",
     "output_type": "stream",
     "text": [
      "\n",
      "Boosters with successful drone ship landing and payload between 4000–6000 kg:\n",
      "- F9 FT B1022\n",
      "- F9 FT B1026\n",
      "- F9 FT  B1021.2\n",
      "- F9 FT  B1031.2\n",
      "Database connection closed.\n"
     ]
    }
   ],
   "source": [
    "import sqlite3\n",
    "\n",
    "try:\n",
    "    # Connect to the database\n",
    "    con = sqlite3.connect(\"my_data1.db\")\n",
    "    cursor = con.cursor()\n",
    "\n",
    "    # SQL query: boosters with successful drone ship landing and payload between 4000 and 6000\n",
    "    query = \"\"\"\n",
    "    SELECT Booster_Version\n",
    "    FROM SPACEXTBL\n",
    "    WHERE Landing_Outcome = 'Success (drone ship)'\n",
    "      AND Payload_Mass__kg_ > 4000\n",
    "      AND Payload_Mass__kg_ < 6000;\n",
    "    \"\"\"\n",
    "\n",
    "    cursor.execute(query)\n",
    "    records = cursor.fetchall()\n",
    "\n",
    "    # Display results\n",
    "    if records:\n",
    "        print(\"\\nBoosters with successful drone ship landing and payload between 4000–6000 kg:\")\n",
    "        for row in records:\n",
    "            print(\"-\", row[0])\n",
    "    else:\n",
    "        print(\"No matching boosters found.\")\n",
    "\n",
    "except sqlite3.Error as e:\n",
    "    print(f\"Database error during operation: {e}\")\n",
    "\n",
    "except Exception as e:\n",
    "    print(f\"An unexpected error occurred: {e}\")\n",
    "\n",
    "finally:\n",
    "    if con:\n",
    "        con.close()\n",
    "        print(\"Database connection closed.\")\n"
   ]
  },
  {
   "cell_type": "markdown",
   "metadata": {},
   "source": [
    "### Task 7\n",
    "\n",
    "\n",
    "\n",
    "\n",
    "##### List the total number of successful and failure mission outcomes\n"
   ]
  },
  {
   "cell_type": "code",
   "execution_count": 42,
   "metadata": {},
   "outputs": [
    {
     "name": "stdout",
     "output_type": "stream",
     "text": [
      "\n",
      "--- Total Number of Missions by Outcome ---\n",
      "Mission_Outcome                          | Total_Missions\n",
      "------------------------------------------------------------\n",
      "Failure (in flight)                      | 1\n",
      "Success                                  | 98\n",
      "Success                                  | 1\n",
      "Success (payload status unclear)         | 1\n",
      "Database connection closed.\n"
     ]
    }
   ],
   "source": [
    "import sqlite3\n",
    "\n",
    "try:\n",
    "    # Connect to the database\n",
    "    con = sqlite3.connect(\"my_data1.db\")\n",
    "    cursor = con.cursor()\n",
    "\n",
    "    # SQL query: count missions grouped by mission outcome\n",
    "    query = \"\"\"\n",
    "    SELECT Mission_Outcome, COUNT(*) AS Total_Missions\n",
    "    FROM SPACEXTBL\n",
    "    GROUP BY Mission_Outcome;\n",
    "    \"\"\"\n",
    "\n",
    "    cursor.execute(query)\n",
    "    records = cursor.fetchall()\n",
    "\n",
    "    # Display results\n",
    "    if records:\n",
    "        print(\"\\n--- Total Number of Missions by Outcome ---\")\n",
    "        print(f\"{'Mission_Outcome':40} | {'Total_Missions'}\")\n",
    "        print(\"-\" * 60)\n",
    "        for row in records:\n",
    "            print(f\"{row[0]:40} | {row[1]}\")\n",
    "    else:\n",
    "        print(\"No mission outcome records found.\")\n",
    "\n",
    "except sqlite3.Error as e:\n",
    "    print(f\"Database error during operation: {e}\")\n",
    "\n",
    "except Exception as e:\n",
    "    print(f\"An unexpected error occurred: {e}\")\n",
    "\n",
    "finally:\n",
    "    if con:\n",
    "        con.close()\n",
    "        print(\"Database connection closed.\")\n"
   ]
  },
  {
   "cell_type": "markdown",
   "metadata": {},
   "source": [
    "### Task 8\n",
    "\n",
    "\n",
    "\n",
    "##### List all the booster_versions that have carried the maximum payload mass. Use a subquery.\n"
   ]
  },
  {
   "cell_type": "code",
   "execution_count": 45,
   "metadata": {},
   "outputs": [
    {
     "name": "stdout",
     "output_type": "stream",
     "text": [
      "\n",
      "--- Booster Versions with Maximum Payload Mass ---\n",
      "Booster_Version           | Payload_Mass__kg_\n",
      "--------------------------------------------------\n",
      "F9 B5 B1048.4             | 15600\n",
      "F9 B5 B1049.4             | 15600\n",
      "F9 B5 B1051.3             | 15600\n",
      "F9 B5 B1056.4             | 15600\n",
      "F9 B5 B1048.5             | 15600\n",
      "F9 B5 B1051.4             | 15600\n",
      "F9 B5 B1049.5             | 15600\n",
      "F9 B5 B1060.2             | 15600\n",
      "F9 B5 B1058.3             | 15600\n",
      "F9 B5 B1051.6             | 15600\n",
      "F9 B5 B1060.3             | 15600\n",
      "F9 B5 B1049.7             | 15600\n",
      "Database connection closed.\n"
     ]
    }
   ],
   "source": [
    "import sqlite3\n",
    "\n",
    "try:\n",
    "    # Connect to the database\n",
    "    con = sqlite3.connect(\"my_data1.db\")\n",
    "    cursor = con.cursor()\n",
    "\n",
    "    # SQL query using subquery to find boosters with the maximum payload mass\n",
    "    query = \"\"\"\n",
    "    SELECT Booster_Version, Payload_Mass__kg_\n",
    "    FROM SPACEXTBL\n",
    "    WHERE Payload_Mass__kg_ = (\n",
    "        SELECT MAX(Payload_Mass__kg_)\n",
    "        FROM SPACEXTBL\n",
    "    );\n",
    "    \"\"\"\n",
    "\n",
    "    cursor.execute(query)\n",
    "    records = cursor.fetchall()\n",
    "\n",
    "    # Display results\n",
    "    if records:\n",
    "        print(\"\\n--- Booster Versions with Maximum Payload Mass ---\")\n",
    "        print(f\"{'Booster_Version':25} | {'Payload_Mass__kg_'}\")\n",
    "        print(\"-\" * 50)\n",
    "        for row in records:\n",
    "            print(f\"{row[0]:25} | {row[1]}\")\n",
    "    else:\n",
    "        print(\"No matching records found.\")\n",
    "\n",
    "except sqlite3.Error as e:\n",
    "    print(f\"Database error during operation: {e}\")\n",
    "\n",
    "except Exception as e:\n",
    "    print(f\"An unexpected error occurred: {e}\")\n",
    "\n",
    "finally:\n",
    "    if con:\n",
    "        con.close()\n",
    "        print(\"Database connection closed.\")\n"
   ]
  },
  {
   "cell_type": "markdown",
   "metadata": {},
   "source": [
    "### Task 9\n",
    "\n",
    "\n",
    "##### List the records which will display the month names, failure landing_outcomes in drone ship ,booster versions, launch_site for the months in year 2015.\n",
    "\n",
    "**Note: SQLLite does not support monthnames. So you need to use  substr(Date, 6,2) as month to get the months and substr(Date,0,5)='2015' for year.**\n"
   ]
  },
  {
   "cell_type": "code",
   "execution_count": 46,
   "metadata": {},
   "outputs": [
    {
     "name": "stdout",
     "output_type": "stream",
     "text": [
      "\n",
      "--- Failed Drone Ship Landings (2015) by Month ---\n",
      "Month  | Booster_Version      | Launch_Site               | Landing_Outcome\n",
      "--------------------------------------------------------------------------------\n",
      "01     | F9 v1.1 B1012        | CCAFS LC-40               | Failure (drone ship)\n",
      "04     | F9 v1.1 B1015        | CCAFS LC-40               | Failure (drone ship)\n",
      "Database connection closed.\n"
     ]
    }
   ],
   "source": [
    "import sqlite3\n",
    "\n",
    "try:\n",
    "    # Connect to the database\n",
    "    con = sqlite3.connect(\"my_data1.db\")\n",
    "    cursor = con.cursor()\n",
    "\n",
    "    # SQL query: extract month, filter by year 2015 and failed drone ship landings\n",
    "    query = \"\"\"\n",
    "    SELECT \n",
    "        substr(Date, 6, 2) AS Month, \n",
    "        Booster_Version, \n",
    "        Launch_Site, \n",
    "        Landing_Outcome\n",
    "    FROM SPACEXTBL\n",
    "    WHERE Landing_Outcome LIKE '%Failure (drone ship)%'\n",
    "      AND substr(Date, 1, 4) = '2015';\n",
    "    \"\"\"\n",
    "\n",
    "    cursor.execute(query)\n",
    "    records = cursor.fetchall()\n",
    "\n",
    "    # Display results\n",
    "    if records:\n",
    "        print(\"\\n--- Failed Drone Ship Landings (2015) by Month ---\")\n",
    "        print(f\"{'Month':6} | {'Booster_Version':20} | {'Launch_Site':25} | {'Landing_Outcome'}\")\n",
    "        print(\"-\" * 80)\n",
    "        for row in records:\n",
    "            print(f\"{row[0]:6} | {row[1]:20} | {row[2]:25} | {row[3]}\")\n",
    "    else:\n",
    "        print(\"No failed drone ship landing records found for 2015.\")\n",
    "\n",
    "except sqlite3.Error as e:\n",
    "    print(f\"Database error during operation: {e}\")\n",
    "\n",
    "except Exception as e:\n",
    "    print(f\"An unexpected error occurred: {e}\")\n",
    "\n",
    "finally:\n",
    "    if con:\n",
    "        con.close()\n",
    "        print(\"Database connection closed.\")\n"
   ]
  },
  {
   "cell_type": "markdown",
   "metadata": {},
   "source": [
    "### Task 10\n",
    "\n",
    "\n",
    "\n",
    "\n",
    "##### Rank the count of landing outcomes (such as Failure (drone ship) or Success (ground pad)) between the date 2010-06-04 and 2017-03-20, in descending order.\n"
   ]
  },
  {
   "cell_type": "code",
   "execution_count": 48,
   "metadata": {},
   "outputs": [
    {
     "name": "stdout",
     "output_type": "stream",
     "text": [
      "\n",
      "--- Ranked Landing Outcomes (2010-06-04 to 2017-03-20) ---\n",
      "Rank | Landing_Outcome                | Count\n",
      "------------------------------------------------------------\n",
      "1    | No attempt                     | 10\n",
      "2    | Success (drone ship)           | 5\n",
      "3    | Failure (drone ship)           | 5\n",
      "4    | Success (ground pad)           | 3\n",
      "5    | Controlled (ocean)             | 3\n",
      "6    | Uncontrolled (ocean)           | 2\n",
      "7    | Failure (parachute)            | 2\n",
      "8    | Precluded (drone ship)         | 1\n",
      "Database connection closed.\n"
     ]
    }
   ],
   "source": [
    "import sqlite3\n",
    "\n",
    "try:\n",
    "    # Connect to the database\n",
    "    con = sqlite3.connect(\"my_data1.db\")\n",
    "    cursor = con.cursor()\n",
    "\n",
    "    # SQL query: count and rank landing outcomes between two dates\n",
    "    query = \"\"\"\n",
    "    SELECT \n",
    "        Landing_Outcome,\n",
    "        COUNT(*) AS Outcome_Count\n",
    "    FROM SPACEXTBL\n",
    "    WHERE Date BETWEEN '2010-06-04' AND '2017-03-20'\n",
    "    GROUP BY Landing_Outcome\n",
    "    ORDER BY Outcome_Count DESC;\n",
    "    \"\"\"\n",
    "\n",
    "    cursor.execute(query)\n",
    "    records = cursor.fetchall()\n",
    "\n",
    "    # Display results with manual ranking\n",
    "    if records:\n",
    "        print(\"\\n--- Ranked Landing Outcomes (2010-06-04 to 2017-03-20) ---\")\n",
    "        print(f\"{'Rank':4} | {'Landing_Outcome':30} | {'Count'}\")\n",
    "        print(\"-\" * 60)\n",
    "        for idx, row in enumerate(records, start=1):\n",
    "            print(f\"{idx:<4} | {row[0]:30} | {row[1]}\")\n",
    "    else:\n",
    "        print(\"No landing outcome records found in the specified date range.\")\n",
    "\n",
    "except sqlite3.Error as e:\n",
    "    print(f\"Database error during operation: {e}\")\n",
    "\n",
    "except Exception as e:\n",
    "    print(f\"An unexpected error occurred: {e}\")\n",
    "\n",
    "finally:\n",
    "    if con:\n",
    "        con.close()\n",
    "        print(\"Database connection closed.\")\n"
   ]
  },
  {
   "cell_type": "markdown",
   "metadata": {},
   "source": [
    "### Reference Links\n",
    "\n",
    "* <a href =\"https://cf-courses-data.s3.us.cloud-object-storage.appdomain.cloud/IBMDeveloperSkillsNetwork-DB0201EN-SkillsNetwork/labs/Labs_Coursera_V5/labs/Lab%20-%20String%20Patterns%20-%20Sorting%20-%20Grouping/instructional-labs.md.html?origin=www.coursera.org\">Hands-on Lab : String Patterns, Sorting and Grouping</a>  \n",
    "\n",
    "*  <a  href=\"https://cf-courses-data.s3.us.cloud-object-storage.appdomain.cloud/IBMDeveloperSkillsNetwork-DB0201EN-SkillsNetwork/labs/Labs_Coursera_V5/labs/Lab%20-%20Built-in%20functions%20/Hands-on_Lab__Built-in_Functions.md.html?origin=www.coursera.org\">Hands-on Lab: Built-in functions</a>\n",
    "\n",
    "*  <a  href=\"https://cf-courses-data.s3.us.cloud-object-storage.appdomain.cloud/IBMDeveloperSkillsNetwork-DB0201EN-SkillsNetwork/labs/Labs_Coursera_V5/labs/Lab%20-%20Sub-queries%20and%20Nested%20SELECTs%20/instructional-labs.md.html?origin=www.coursera.org\">Hands-on Lab : Sub-queries and Nested SELECT Statements</a>\n",
    "\n",
    "*   <a href=\"https://cf-courses-data.s3.us.cloud-object-storage.appdomain.cloud/IBMDeveloperSkillsNetwork-DB0201EN-SkillsNetwork/labs/Module%205/DB0201EN-Week3-1-3-SQLmagic.ipynb\">Hands-on Tutorial: Accessing Databases with SQL magic</a>\n",
    "\n",
    "*  <a href= \"https://cf-courses-data.s3.us.cloud-object-storage.appdomain.cloud/IBMDeveloperSkillsNetwork-DB0201EN-SkillsNetwork/labs/Module%205/DB0201EN-Week3-1-4-Analyzing.ipynb\">Hands-on Lab: Analyzing a real World Data Set</a>\n",
    "\n",
    "\n"
   ]
  },
  {
   "cell_type": "markdown",
   "metadata": {},
   "source": [
    "## Author(s)\n",
    "\n",
    "<h4> Unyime Michael </h4>\n"
   ]
  },
  {
   "cell_type": "markdown",
   "metadata": {},
   "source": [
    "## Other Contributors\n",
    "\n",
    "<h4> Rav Ahuja </h4>\n",
    "<h4> Lakshmi Holla </h4>"
   ]
  },
  {
   "cell_type": "markdown",
   "metadata": {},
   "source": [
    "<!--\n",
    "## Change log\n",
    "| Date | Version | Changed by | Change Description |\n",
    "|------|--------|--------|---------|\n",
    "| 2024-07-10 | 1.1 |Anita Verma | Changed Version|\n",
    "| 2021-07-09 | 0.2 |Lakshmi Holla | Changes made in magic sql|\n",
    "| 2021-05-20 | 0.1 |Lakshmi Holla | Created Initial Version |\n",
    "-->\n"
   ]
  },
  {
   "cell_type": "markdown",
   "metadata": {},
   "source": [
    "## <h3 align=\"center\"> © IBM Corporation 2021. All rights reserved. <h3/>\n"
   ]
  }
 ],
 "metadata": {
  "kernelspec": {
   "display_name": "Python 3 (ipykernel)",
   "language": "python",
   "name": "python3"
  },
  "language_info": {
   "codemirror_mode": {
    "name": "ipython",
    "version": 3
   },
   "file_extension": ".py",
   "mimetype": "text/x-python",
   "name": "python",
   "nbconvert_exporter": "python",
   "pygments_lexer": "ipython3",
   "version": "3.12.7"
  },
  "prev_pub_hash": "18774c8928e6c688c0fbec1a14775f2c11e247049ea3a108a4750dd06f4672bb"
 },
 "nbformat": 4,
 "nbformat_minor": 4
}
